{
 "cells": [
  {
   "cell_type": "code",
   "execution_count": 1,
   "metadata": {},
   "outputs": [],
   "source": [
    "from segment import Segment"
   ]
  },
  {
   "cell_type": "code",
   "execution_count": 2,
   "metadata": {},
   "outputs": [
    {
     "name": "stdout",
     "output_type": "stream",
     "text": [
      "[(0, 3, <function Segment.get_possibilites.<locals>.<lambda> at 0x7ece598a60>), (0, 2, <function Segment.get_possibilites.<locals>.<lambda> at 0x7ece598af0>), (0, 2, <function Segment.get_possibilites.<locals>.<lambda> at 0x7ece598b80>), (0, 3, <function Segment.get_possibilites.<locals>.<lambda> at 0x7ece598c10>), (0, 2, <function Segment.get_possibilites.<locals>.<lambda> at 0x7ece598ca0>), (0, 1, <function Segment.get_possibilites.<locals>.<lambda> at 0x7ece598d30>), (0, 1, <function Segment.get_possibilites.<locals>.<lambda> at 0x7ece598dc0>), (0, 0, <function Segment.get_possibilites.<locals>.<lambda> at 0x7ece598e50>), (0, 4, <function Segment.get_possibilites.<locals>.<lambda> at 0x7ece598ee0>), (0, 1, <function Segment.get_possibilites.<locals>.<lambda> at 0x7ece598f70>), (0, 2, <function Segment.get_possibilites.<locals>.<lambda> at 0x7eceee9040>), (0, 3, <function Segment.get_possibilites.<locals>.<lambda> at 0x7eceee90d0>), (0, 2, <function Segment.get_possibilites.<locals>.<lambda> at 0x7eceee9160>), (0, 2, <function Segment.get_possibilites.<locals>.<lambda> at 0x7eceee91f0>), (0, 5, <function Segment.get_possibilites.<locals>.<lambda> at 0x7eceee9280>), (0, 1, <function Segment.get_possibilites.<locals>.<lambda> at 0x7eceee9310>)]\n"
     ]
    }
   ],
   "source": [
    "seg = Segment('8')\n",
    "print(list(seg.get_possibilites()))"
   ]
  }
 ],
 "metadata": {
  "interpreter": {
   "hash": "916dbcbb3f70747c44a77c7bcd40155683ae19c65e1c03b4aa3499c5328201f1"
  },
  "kernelspec": {
   "display_name": "Python 3.9.2 64-bit",
   "language": "python",
   "name": "python3"
  },
  "language_info": {
   "codemirror_mode": {
    "name": "ipython",
    "version": 3
   },
   "file_extension": ".py",
   "mimetype": "text/x-python",
   "name": "python",
   "nbconvert_exporter": "python",
   "pygments_lexer": "ipython3",
   "version": "3.9.2"
  },
  "orig_nbformat": 4
 },
 "nbformat": 4,
 "nbformat_minor": 2
}
