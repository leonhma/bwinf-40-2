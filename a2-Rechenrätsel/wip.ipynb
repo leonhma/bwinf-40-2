{
 "cells": [
  {
   "cell_type": "code",
   "execution_count": 13,
   "metadata": {},
   "outputs": [],
   "source": [
    "from random import choice, randint\n",
    "import re\n",
    "from typing import List, Union, Callable"
   ]
  },
  {
   "cell_type": "code",
   "execution_count": 14,
   "metadata": {},
   "outputs": [],
   "source": [
    "def is_sum_of_list_items(i: int, lst: List[int], add_action: Callable = lambda i, j: i-j) -> bool:\n",
    "    \"\"\"\n",
    "    Check if the given number is the sum of multiple items in the given list.\n",
    "    \"\"\"\n",
    "    if i in lst:\n",
    "        return True\n",
    "    for j in lst:\n",
    "        new_lst = lst.copy()\n",
    "        new_lst.remove(j)\n",
    "        if is_sum_of_list_items(add_action(i, j), new_lst, add_action):\n",
    "            return True\n",
    "    return False\n"
   ]
  },
  {
   "cell_type": "code",
   "execution_count": 15,
   "metadata": {},
   "outputs": [],
   "source": [
    "def is_valid_challenge__get_result(challenge, difficulty = 1) -> Union[bool, str]:\n",
    "    # ---- invalid if result is under zero or division/multiplication by 1 ----\n",
    "    if eval(challenge) < 0 or re.match(r'[*/]1', challenge):\n",
    "        print('result under 0 or division/multiplication by 1')\n",
    "        return False\n",
    "\n",
    "    # ---- check for right difficulty using googles rainwater problem ---- TODO\n",
    "\n",
    "    # ---- check for cancelling divisions/multiplications spanning summands ---- TODO\n",
    "\n",
    "    # ---- check for 3*4+3 case ----\n",
    "    # TODO might not all be invalid https://regex101.com/r/Ncg3kE/3\n",
    "    if re.match(r'(?<!\\/)(?:(?:\\d\\*?)+\\+(?:\\*?\\d){2,}|(?:\\d\\*?){2,}\\+(?:\\*?\\d)+)(?!\\/)', challenge):\n",
    "        return False\n",
    "    \n",
    "\n",
    "    # TODO split into summands\n",
    "    summands = re.findall(r'[+-].*?(?=[+-]|$)', challenge)\n",
    "\n",
    "    # ---- check for cancelling muls/divs in summand ---- TODO\n",
    "    for summand in summands:\n",
    "        divs = [int(x) for x in re.findall(r'(?<=\\/)\\d', summand)]\n",
    "        muls = [int(x) for x in re.findall(r'(?<=\\*)\\d', summand)]\n",
    "\n",
    "        for div in divs:\n",
    "            if is_sum_of_list_items(div, muls, lambda i, j: i/j):\n",
    "                print('a div can be cancelled by one or more muls')\n",
    "                return False\n",
    "        for mul in muls:\n",
    "            if is_sum_of_list_items(mul, divs, lambda i, j: i/j):\n",
    "                print('a mul can be cancelled by one or more divs')\n",
    "                return False\n",
    "\n",
    "    # ---- calculate each summand's result while checking for non-int temporary results ----\n",
    "    # TODO next\n",
    "\n",
    "    # ---- check for cancelling summands/minuends ----\n",
    "    pluses, minuses = [], []\n",
    "\n",
    "    for s in summands:\n",
    "        res = eval(s[1:])\n",
    "        if s[0] == '+':\n",
    "            pluses.append(res)\n",
    "        else:  # s[0] == '-'\n",
    "            minuses.append(res)\n",
    "\n",
    "    for plus in pluses:\n",
    "        if is_sum_of_list_items(plus, minuses):\n",
    "            print('a summand can be cancelled by one or more minuends')\n",
    "            return False\n",
    "    for minus in minuses:\n",
    "        if is_sum_of_list_items(minus, pluses):\n",
    "            print('a minuend can be cancelled by one or more summands')\n",
    "            return False\n",
    "\n",
    "    return True\n"
   ]
  },
  {
   "cell_type": "code",
   "execution_count": 16,
   "metadata": {},
   "outputs": [
    {
     "data": {
      "text/plain": [
       "True"
      ]
     },
     "execution_count": 16,
     "metadata": {},
     "output_type": "execute_result"
    }
   ],
   "source": [
    "is_sum_of_list_items(10, [5, 3, 2, 1])"
   ]
  },
  {
   "cell_type": "code",
   "execution_count": 19,
   "metadata": {},
   "outputs": [
    {
     "name": "stdout",
     "output_type": "stream",
     "text": [
      "a div can be cancelled by one or more muls\n"
     ]
    },
    {
     "data": {
      "text/plain": [
       "False"
      ]
     },
     "execution_count": 19,
     "metadata": {},
     "output_type": "execute_result"
    }
   ],
   "source": [
    "is_valid_challenge__get_result('+1/4*2*2')"
   ]
  }
 ],
 "metadata": {
  "interpreter": {
   "hash": "916dbcbb3f70747c44a77c7bcd40155683ae19c65e1c03b4aa3499c5328201f1"
  },
  "kernelspec": {
   "display_name": "Python 3.9.2 64-bit",
   "language": "python",
   "name": "python3"
  },
  "language_info": {
   "codemirror_mode": {
    "name": "ipython",
    "version": 3
   },
   "file_extension": ".py",
   "mimetype": "text/x-python",
   "name": "python",
   "nbconvert_exporter": "python",
   "pygments_lexer": "ipython3",
   "version": "3.9.2"
  },
  "orig_nbformat": 4
 },
 "nbformat": 4,
 "nbformat_minor": 2
}
