{
 "cells": [
  {
   "cell_type": "code",
   "execution_count": 62,
   "metadata": {},
   "outputs": [],
   "source": [
    "from random import choice, randint\n",
    "import regex as re\n",
    "from typing import List, Union, Callable\n",
    "from collections import Counter"
   ]
  },
  {
   "cell_type": "code",
   "execution_count": 63,
   "metadata": {},
   "outputs": [],
   "source": [
    "def is_sum_of_list_items(i: int, lst: List[int], add_action: Callable = lambda i, j: i-j) -> bool:\n",
    "    \"\"\"\n",
    "    Check if the given number is the sum of multiple items in the given list.\n",
    "    \"\"\"\n",
    "    if i in lst:\n",
    "        return True\n",
    "    for j in lst:\n",
    "        new_lst = lst.copy()\n",
    "        new_lst.remove(j)\n",
    "        if is_sum_of_list_items(add_action(i, j), new_lst, add_action):\n",
    "            return True\n",
    "    return False\n"
   ]
  },
  {
   "cell_type": "code",
   "execution_count": 64,
   "metadata": {},
   "outputs": [],
   "source": [
    "def is_valid_challenge__get_result(challenge) -> Union[bool, str]:\n",
    "    # ---- invalid if result if division/multiplication by 1 ----\n",
    "    if re.match(r'[*/]1', challenge):\n",
    "        print('result under 0 or division/multiplication by 1')\n",
    "        return False\n",
    "\n",
    "    # ---- check that there's not one number followed by the same number again\n",
    "    if re.match(r'(\\d)[*-+/]\\1', challenge):\n",
    "        print('one number followed by the same number again')\n",
    "        return False\n",
    "\n",
    "    # ---- check for 3*4+3 case ----\n",
    "    parts = re.findall(\n",
    "        r'(?<=[+-])(?:(?:\\d\\*?)+\\+(?:\\*?\\d){2,}|(?:\\d\\*?){2,}\\+(?:\\*?\\d)+)(?=[+-]|$)',\n",
    "        challenge, overlapped=True)\n",
    "    \n",
    "    for part in parts:\n",
    "        i = part.find('+')\n",
    "        if i < (len(part)-1)/2:\n",
    "            left = Counter(re.findall(r'\\d', part[:i]))\n",
    "            right = Counter(re.findall(r'\\d', part[-i:]))\n",
    "            left.subtract(right)\n",
    "            if not left.total():\n",
    "                print(f'found x+n*x case: {part}')\n",
    "                return False\n",
    "        elif i > (len(part)-1)/2:\n",
    "            left = Counter(re.findall(r'\\d', part[:len(part)-i]))\n",
    "            right = Counter(re.findall(r'\\d', part[i+1:]))\n",
    "            left.subtract(right)\n",
    "            if not left.total():\n",
    "                print(f'found x*n+x case: {part}')\n",
    "                return False\n",
    "\n",
    "    # split into summands\n",
    "    summands = re.findall(r'[+-].*?(?=[+-]|$)', challenge)\n",
    "\n",
    "    # ---- check for cancelling muls/divs in summand ---- TODO\n",
    "    for summand in summands:\n",
    "        divs = [int(x) for x in re.findall(r'(?<=\\/)\\d', summand)]\n",
    "        muls = [int(x) for x in re.findall(r'(?<=\\*)\\d', summand)]\n",
    "\n",
    "        for div in divs:\n",
    "            if is_sum_of_list_items(div, muls, lambda i, j: i/j):\n",
    "                print('a div can be cancelled by one or more muls')\n",
    "                return False\n",
    "        for mul in muls:\n",
    "            if is_sum_of_list_items(mul, divs, lambda i, j: i/j):\n",
    "                print('a mul can be cancelled by one or more divs')\n",
    "                return False\n",
    "\n",
    "    # ---- calculate each summand's result while checking for non-int temporary results ----\n",
    "    pluses, minuses = [], []\n",
    "\n",
    "    for summand in summands:\n",
    "        print(f'{summand=}')\n",
    "        sum_ = 0\n",
    "        sum_ = int(summand[:2])\n",
    "        if len(summand) > 2:\n",
    "            for i in range(len(summand))[2::2]:\n",
    "                if summand[i] == '/':\n",
    "                    sum_ /= int(summand[i+1])\n",
    "                    print(f'{sum_=}')\n",
    "                elif summand[i] == '*':\n",
    "                    sum_ *= int(summand[i+1])\n",
    "                    print(f'{sum_=}')\n",
    "                if sum_%1:\n",
    "                    print('non-int temporary result')\n",
    "                    return False\n",
    "        \n",
    "        if sum_ < 0:\n",
    "            minuses.append(int(sum_))\n",
    "        elif sum_ > 0:\n",
    "            pluses.append(int(sum_))\n",
    "\n",
    "\n",
    "    # ---- check for cancelling summands/minuends ----\n",
    "    for plus in pluses:\n",
    "        if is_sum_of_list_items(plus, minuses):\n",
    "            print('a summand can be cancelled by one or more minuends')\n",
    "            return False\n",
    "    for minus in minuses:\n",
    "        if is_sum_of_list_items(minus, pluses):\n",
    "            print('a minuend can be cancelled by one or more summands')\n",
    "            return False\n",
    "\n",
    "    print(pluses, minuses)\n",
    "    if sum(pluses) - sum(minuses) < 0:\n",
    "        print('result under 0')\n",
    "        return False\n",
    "    \n",
    "    return True\n"
   ]
  },
  {
   "cell_type": "code",
   "execution_count": 65,
   "metadata": {},
   "outputs": [
    {
     "data": {
      "text/plain": [
       "True"
      ]
     },
     "execution_count": 65,
     "metadata": {},
     "output_type": "execute_result"
    }
   ],
   "source": [
    "is_sum_of_list_items(10, [5, 3, 2, 1])"
   ]
  },
  {
   "cell_type": "code",
   "execution_count": 66,
   "metadata": {},
   "outputs": [
    {
     "name": "stdout",
     "output_type": "stream",
     "text": [
      "summand='+2/2'\n",
      "sum_=1.0\n",
      "summand='+2*2'\n",
      "sum_=4\n",
      "summand='-4'\n",
      "[1, 4] [-4]\n"
     ]
    },
    {
     "data": {
      "text/plain": [
       "9"
      ]
     },
     "execution_count": 66,
     "metadata": {},
     "output_type": "execute_result"
    }
   ],
   "source": [
    "is_valid_challenge__get_result('+2/2+2*2-4')"
   ]
  }
 ],
 "metadata": {
  "interpreter": {
   "hash": "916dbcbb3f70747c44a77c7bcd40155683ae19c65e1c03b4aa3499c5328201f1"
  },
  "kernelspec": {
   "display_name": "Python 3.9.2 64-bit",
   "language": "python",
   "name": "python3"
  },
  "language_info": {
   "codemirror_mode": {
    "name": "ipython",
    "version": 3
   },
   "file_extension": ".py",
   "mimetype": "text/x-python",
   "name": "python",
   "nbconvert_exporter": "python",
   "pygments_lexer": "ipython3",
   "version": "3.10.1"
  },
  "orig_nbformat": 4
 },
 "nbformat": 4,
 "nbformat_minor": 2
}
