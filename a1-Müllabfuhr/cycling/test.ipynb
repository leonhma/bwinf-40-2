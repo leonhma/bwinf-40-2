{
 "cells": [
  {
   "cell_type": "code",
   "execution_count": 40,
   "metadata": {},
   "outputs": [
    {
     "name": "stdout",
     "output_type": "stream",
     "text": [
      "[9, 8, 7, 6, 5]\n",
      "[(0, 6, 7, 8, 0), (0, 4, 5, 6, 0), (0, 8, 9, 8, 0), (0, 2, 1, 8, 0), (0, 2, 3, 4, 0)]\n"
     ]
    }
   ],
   "source": [
    "from citygraph import CityGraph\n",
    "import math\n",
    "from typing import List, Generator\n",
    "\n",
    "cg = CityGraph._from_bwinf_file('../beispieldaten/muellabfuhr0.txt')\n",
    "\n",
    "cycles = list(map(lambda x: x[0], sorted(cg.find_cycles(), key=lambda x: x[1])))\n",
    "\n",
    "def check_cycles(cycles: List):\n",
    "    edges = []\n",
    "    for cycle in cycles:\n",
    "        for i in range(len(cycle)-2):\n",
    "            edges.append({cycle[i], cycle[i+1]})\n",
    "    \n",
    "    for edge in cg.edgeset:\n",
    "        if edge not in edges:\n",
    "            return False\n",
    "    return True\n",
    "\n",
    "max_ = len(cycles)\n",
    "# counter_gen = ([math.floor(i/max_**z)%max_ for z in range(5)] for i in range(max_**5))\n",
    "\n",
    "def is_duplicate(arr: List):\n",
    "    prev = None\n",
    "    for x in sorted(arr):\n",
    "        if prev == x: return True\n",
    "        prev = x\n",
    "\n",
    "def combinations() -> Generator[List[int], None, None]:\n",
    "    for major in range(max_):\n",
    "        for i in range((major+1)**4):\n",
    "            next_ = [major] + [major - math.floor((i / ((major + 1) ** z)) % (major + 1)) for z in range(3, -1, -1)]\n",
    "            if is_duplicate(next_): continue\n",
    "            yield next_\n",
    "\n",
    "for c in combinations():\n",
    "    if check_cycles([cycles[y] for y in c]):\n",
    "        print(c)\n",
    "        print([cycles[y] for y in c])\n",
    "        break\n"
   ]
  }
 ],
 "metadata": {
  "interpreter": {
   "hash": "dcfe86b0f2f8ee846c7a021d54d576623fe394ac54edb12384e41645d01da8bc"
  },
  "kernelspec": {
   "display_name": "Python 3.10.1 64-bit",
   "language": "python",
   "name": "python3"
  },
  "language_info": {
   "codemirror_mode": {
    "name": "ipython",
    "version": 3
   },
   "file_extension": ".py",
   "mimetype": "text/x-python",
   "name": "python",
   "nbconvert_exporter": "python",
   "pygments_lexer": "ipython3",
   "version": "3.9.2"
  },
  "orig_nbformat": 4
 },
 "nbformat": 4,
 "nbformat_minor": 2
}
