{
 "cells": [
  {
   "cell_type": "code",
   "execution_count": 45,
   "metadata": {},
   "outputs": [
    {
     "ename": "KeyboardInterrupt",
     "evalue": "",
     "output_type": "error",
     "traceback": [
      "\u001b[0;31m---------------------------------------------------------------------------\u001b[0m",
      "\u001b[0;31mKeyboardInterrupt\u001b[0m                         Traceback (most recent call last)",
      "\u001b[1;32m/home/leonhardmasche/bwinf-40-2/a1-Müllabfuhr/cycling/test.ipynb Cell 1'\u001b[0m in \u001b[0;36m<module>\u001b[0;34m\u001b[0m\n\u001b[1;32m      <a href='vscode-notebook-cell:/home/leonhardmasche/bwinf-40-2/a1-M%C3%BCllabfuhr/cycling/test.ipynb#ch0000000?line=2'>3</a>\u001b[0m \u001b[39mfrom\u001b[39;00m \u001b[39mtyping\u001b[39;00m \u001b[39mimport\u001b[39;00m List, Generator\n\u001b[1;32m      <a href='vscode-notebook-cell:/home/leonhardmasche/bwinf-40-2/a1-M%C3%BCllabfuhr/cycling/test.ipynb#ch0000000?line=4'>5</a>\u001b[0m cg \u001b[39m=\u001b[39m CityGraph\u001b[39m.\u001b[39m_from_bwinf_file(\u001b[39m'\u001b[39m\u001b[39m../beispieldaten/muellabfuhr2.txt\u001b[39m\u001b[39m'\u001b[39m)\n\u001b[0;32m----> <a href='vscode-notebook-cell:/home/leonhardmasche/bwinf-40-2/a1-M%C3%BCllabfuhr/cycling/test.ipynb#ch0000000?line=6'>7</a>\u001b[0m cycles \u001b[39m=\u001b[39m \u001b[39mlist\u001b[39m(\u001b[39mmap\u001b[39m(\u001b[39mlambda\u001b[39;00m x: x[\u001b[39m0\u001b[39m], \u001b[39msorted\u001b[39m(cg\u001b[39m.\u001b[39;49mfind_cycles(), key\u001b[39m=\u001b[39m\u001b[39mlambda\u001b[39;00m x: x[\u001b[39m1\u001b[39m])))\n\u001b[1;32m      <a href='vscode-notebook-cell:/home/leonhardmasche/bwinf-40-2/a1-M%C3%BCllabfuhr/cycling/test.ipynb#ch0000000?line=8'>9</a>\u001b[0m \u001b[39mdef\u001b[39;00m \u001b[39mcheck_cycles\u001b[39m(cycles: List):\n\u001b[1;32m     <a href='vscode-notebook-cell:/home/leonhardmasche/bwinf-40-2/a1-M%C3%BCllabfuhr/cycling/test.ipynb#ch0000000?line=9'>10</a>\u001b[0m     edges \u001b[39m=\u001b[39m []\n",
      "File \u001b[0;32m~/bwinf-40-2/a1-Müllabfuhr/cycling/citygraph.py:63\u001b[0m, in \u001b[0;36mCityGraph.find_cycles\u001b[0;34m(self)\u001b[0m\n\u001b[1;32m     <a href='file:///~/bwinf-40-2/a1-M%C3%BCllabfuhr/cycling/citygraph.py?line=55'>56</a>\u001b[0m \u001b[39mdef\u001b[39;00m \u001b[39mfind_cycles\u001b[39m(\u001b[39mself\u001b[39m) \u001b[39m-\u001b[39m\u001b[39m>\u001b[39m \u001b[39mset\u001b[39m[\u001b[39mtuple\u001b[39m[\u001b[39mtuple\u001b[39m[\u001b[39mint\u001b[39m], \u001b[39mfloat\u001b[39m]]:\n\u001b[1;32m     <a href='file:///~/bwinf-40-2/a1-M%C3%BCllabfuhr/cycling/citygraph.py?line=56'>57</a>\u001b[0m     \u001b[39m\"\"\"\u001b[39;00m\n\u001b[1;32m     <a href='file:///~/bwinf-40-2/a1-M%C3%BCllabfuhr/cycling/citygraph.py?line=57'>58</a>\u001b[0m \u001b[39m    Find all cycles, that\u001b[39;00m\n\u001b[1;32m     <a href='file:///~/bwinf-40-2/a1-M%C3%BCllabfuhr/cycling/citygraph.py?line=58'>59</a>\u001b[0m \u001b[39m    - can use an edge up to two times\u001b[39;00m\n\u001b[1;32m     <a href='file:///~/bwinf-40-2/a1-M%C3%BCllabfuhr/cycling/citygraph.py?line=59'>60</a>\u001b[0m \u001b[39m    - don't turn around when there's only two edges connected to a vertice\u001b[39;00m\n\u001b[1;32m     <a href='file:///~/bwinf-40-2/a1-M%C3%BCllabfuhr/cycling/citygraph.py?line=60'>61</a>\u001b[0m \n\u001b[1;32m     <a href='file:///~/bwinf-40-2/a1-M%C3%BCllabfuhr/cycling/citygraph.py?line=61'>62</a>\u001b[0m \u001b[39m    \"\"\"\u001b[39;00m\n\u001b[0;32m---> <a href='file:///~/bwinf-40-2/a1-M%C3%BCllabfuhr/cycling/citygraph.py?line=62'>63</a>\u001b[0m     cycles \u001b[39m=\u001b[39m \u001b[39mself\u001b[39;49m\u001b[39m.\u001b[39;49m_cycles_dfs([\u001b[39m0\u001b[39;49m], [], \u001b[39m0\u001b[39;49m)\n\u001b[1;32m     <a href='file:///~/bwinf-40-2/a1-M%C3%BCllabfuhr/cycling/citygraph.py?line=63'>64</a>\u001b[0m     cycles\u001b[39m.\u001b[39madd(((\u001b[39m0\u001b[39m,), \u001b[39m0\u001b[39m))  \u001b[39m# also consider staying home possibility\u001b[39;00m\n\u001b[1;32m     <a href='file:///~/bwinf-40-2/a1-M%C3%BCllabfuhr/cycling/citygraph.py?line=64'>65</a>\u001b[0m     \u001b[39m# clean duplicates\u001b[39;00m\n",
      "File \u001b[0;32m~/bwinf-40-2/a1-Müllabfuhr/cycling/citygraph.py:49\u001b[0m, in \u001b[0;36mCityGraph._cycles_dfs\u001b[0;34m(self, _current_path, _traversed_edges, _current_depth)\u001b[0m\n\u001b[1;32m     <a href='file:///~/bwinf-40-2/a1-M%C3%BCllabfuhr/cycling/citygraph.py?line=45'>46</a>\u001b[0m         cycles\u001b[39m.\u001b[39madd((\u001b[39mtuple\u001b[39m(_current_path\u001b[39m+\u001b[39m[\u001b[39m0\u001b[39m]), _current_depth\u001b[39m+\u001b[39mconnected[v_next]))\n\u001b[1;32m     <a href='file:///~/bwinf-40-2/a1-M%C3%BCllabfuhr/cycling/citygraph.py?line=46'>47</a>\u001b[0m     \u001b[39melse\u001b[39;00m:\n\u001b[1;32m     <a href='file:///~/bwinf-40-2/a1-M%C3%BCllabfuhr/cycling/citygraph.py?line=47'>48</a>\u001b[0m         cycles\u001b[39m.\u001b[39mupdate(\n\u001b[0;32m---> <a href='file:///~/bwinf-40-2/a1-M%C3%BCllabfuhr/cycling/citygraph.py?line=48'>49</a>\u001b[0m             \u001b[39mself\u001b[39;49m\u001b[39m.\u001b[39;49m_cycles_dfs(\n\u001b[1;32m     <a href='file:///~/bwinf-40-2/a1-M%C3%BCllabfuhr/cycling/citygraph.py?line=49'>50</a>\u001b[0m                 _current_path \u001b[39m+\u001b[39;49m [v_next],\n\u001b[1;32m     <a href='file:///~/bwinf-40-2/a1-M%C3%BCllabfuhr/cycling/citygraph.py?line=50'>51</a>\u001b[0m                 _traversed_edges \u001b[39m+\u001b[39;49m [{_current_path[\u001b[39m-\u001b[39;49m\u001b[39m1\u001b[39;49m],\n\u001b[1;32m     <a href='file:///~/bwinf-40-2/a1-M%C3%BCllabfuhr/cycling/citygraph.py?line=51'>52</a>\u001b[0m                                     v_next}],\n\u001b[1;32m     <a href='file:///~/bwinf-40-2/a1-M%C3%BCllabfuhr/cycling/citygraph.py?line=52'>53</a>\u001b[0m                 _current_depth \u001b[39m+\u001b[39;49m connected[v_next]))\n\u001b[1;32m     <a href='file:///~/bwinf-40-2/a1-M%C3%BCllabfuhr/cycling/citygraph.py?line=53'>54</a>\u001b[0m \u001b[39mreturn\u001b[39;00m cycles\n",
      "File \u001b[0;32m~/bwinf-40-2/a1-Müllabfuhr/cycling/citygraph.py:49\u001b[0m, in \u001b[0;36mCityGraph._cycles_dfs\u001b[0;34m(self, _current_path, _traversed_edges, _current_depth)\u001b[0m\n\u001b[1;32m     <a href='file:///~/bwinf-40-2/a1-M%C3%BCllabfuhr/cycling/citygraph.py?line=45'>46</a>\u001b[0m         cycles\u001b[39m.\u001b[39madd((\u001b[39mtuple\u001b[39m(_current_path\u001b[39m+\u001b[39m[\u001b[39m0\u001b[39m]), _current_depth\u001b[39m+\u001b[39mconnected[v_next]))\n\u001b[1;32m     <a href='file:///~/bwinf-40-2/a1-M%C3%BCllabfuhr/cycling/citygraph.py?line=46'>47</a>\u001b[0m     \u001b[39melse\u001b[39;00m:\n\u001b[1;32m     <a href='file:///~/bwinf-40-2/a1-M%C3%BCllabfuhr/cycling/citygraph.py?line=47'>48</a>\u001b[0m         cycles\u001b[39m.\u001b[39mupdate(\n\u001b[0;32m---> <a href='file:///~/bwinf-40-2/a1-M%C3%BCllabfuhr/cycling/citygraph.py?line=48'>49</a>\u001b[0m             \u001b[39mself\u001b[39;49m\u001b[39m.\u001b[39;49m_cycles_dfs(\n\u001b[1;32m     <a href='file:///~/bwinf-40-2/a1-M%C3%BCllabfuhr/cycling/citygraph.py?line=49'>50</a>\u001b[0m                 _current_path \u001b[39m+\u001b[39;49m [v_next],\n\u001b[1;32m     <a href='file:///~/bwinf-40-2/a1-M%C3%BCllabfuhr/cycling/citygraph.py?line=50'>51</a>\u001b[0m                 _traversed_edges \u001b[39m+\u001b[39;49m [{_current_path[\u001b[39m-\u001b[39;49m\u001b[39m1\u001b[39;49m],\n\u001b[1;32m     <a href='file:///~/bwinf-40-2/a1-M%C3%BCllabfuhr/cycling/citygraph.py?line=51'>52</a>\u001b[0m                                     v_next}],\n\u001b[1;32m     <a href='file:///~/bwinf-40-2/a1-M%C3%BCllabfuhr/cycling/citygraph.py?line=52'>53</a>\u001b[0m                 _current_depth \u001b[39m+\u001b[39;49m connected[v_next]))\n\u001b[1;32m     <a href='file:///~/bwinf-40-2/a1-M%C3%BCllabfuhr/cycling/citygraph.py?line=53'>54</a>\u001b[0m \u001b[39mreturn\u001b[39;00m cycles\n",
      "    \u001b[0;31m[... skipping similar frames: CityGraph._cycles_dfs at line 49 (30 times)]\u001b[0m\n",
      "File \u001b[0;32m~/bwinf-40-2/a1-Müllabfuhr/cycling/citygraph.py:49\u001b[0m, in \u001b[0;36mCityGraph._cycles_dfs\u001b[0;34m(self, _current_path, _traversed_edges, _current_depth)\u001b[0m\n\u001b[1;32m     <a href='file:///~/bwinf-40-2/a1-M%C3%BCllabfuhr/cycling/citygraph.py?line=45'>46</a>\u001b[0m         cycles\u001b[39m.\u001b[39madd((\u001b[39mtuple\u001b[39m(_current_path\u001b[39m+\u001b[39m[\u001b[39m0\u001b[39m]), _current_depth\u001b[39m+\u001b[39mconnected[v_next]))\n\u001b[1;32m     <a href='file:///~/bwinf-40-2/a1-M%C3%BCllabfuhr/cycling/citygraph.py?line=46'>47</a>\u001b[0m     \u001b[39melse\u001b[39;00m:\n\u001b[1;32m     <a href='file:///~/bwinf-40-2/a1-M%C3%BCllabfuhr/cycling/citygraph.py?line=47'>48</a>\u001b[0m         cycles\u001b[39m.\u001b[39mupdate(\n\u001b[0;32m---> <a href='file:///~/bwinf-40-2/a1-M%C3%BCllabfuhr/cycling/citygraph.py?line=48'>49</a>\u001b[0m             \u001b[39mself\u001b[39;49m\u001b[39m.\u001b[39;49m_cycles_dfs(\n\u001b[1;32m     <a href='file:///~/bwinf-40-2/a1-M%C3%BCllabfuhr/cycling/citygraph.py?line=49'>50</a>\u001b[0m                 _current_path \u001b[39m+\u001b[39;49m [v_next],\n\u001b[1;32m     <a href='file:///~/bwinf-40-2/a1-M%C3%BCllabfuhr/cycling/citygraph.py?line=50'>51</a>\u001b[0m                 _traversed_edges \u001b[39m+\u001b[39;49m [{_current_path[\u001b[39m-\u001b[39;49m\u001b[39m1\u001b[39;49m],\n\u001b[1;32m     <a href='file:///~/bwinf-40-2/a1-M%C3%BCllabfuhr/cycling/citygraph.py?line=51'>52</a>\u001b[0m                                     v_next}],\n\u001b[1;32m     <a href='file:///~/bwinf-40-2/a1-M%C3%BCllabfuhr/cycling/citygraph.py?line=52'>53</a>\u001b[0m                 _current_depth \u001b[39m+\u001b[39;49m connected[v_next]))\n\u001b[1;32m     <a href='file:///~/bwinf-40-2/a1-M%C3%BCllabfuhr/cycling/citygraph.py?line=53'>54</a>\u001b[0m \u001b[39mreturn\u001b[39;00m cycles\n",
      "File \u001b[0;32m~/bwinf-40-2/a1-Müllabfuhr/cycling/citygraph.py:43\u001b[0m, in \u001b[0;36mCityGraph._cycles_dfs\u001b[0;34m(self, _current_path, _traversed_edges, _current_depth)\u001b[0m\n\u001b[1;32m     <a href='file:///~/bwinf-40-2/a1-M%C3%BCllabfuhr/cycling/citygraph.py?line=40'>41</a>\u001b[0m \u001b[39mif\u001b[39;00m \u001b[39mlen\u001b[39m(_current_path) \u001b[39m>\u001b[39m \u001b[39mself\u001b[39m\u001b[39m.\u001b[39m_max_dfs_depth:\n\u001b[1;32m     <a href='file:///~/bwinf-40-2/a1-M%C3%BCllabfuhr/cycling/citygraph.py?line=41'>42</a>\u001b[0m     \u001b[39mbreak\u001b[39;00m\n\u001b[0;32m---> <a href='file:///~/bwinf-40-2/a1-M%C3%BCllabfuhr/cycling/citygraph.py?line=42'>43</a>\u001b[0m \u001b[39mif\u001b[39;00m (v_next \u001b[39m==\u001b[39m (_current_path[\u001b[39m-\u001b[39m\u001b[39m2\u001b[39m] \u001b[39mif\u001b[39;00m \u001b[39mlen\u001b[39m(_current_path) \u001b[39m>\u001b[39m \u001b[39m1\u001b[39m \u001b[39melse\u001b[39;00m \u001b[39m'\u001b[39m\u001b[39masdafsdfsd\u001b[39m\u001b[39m'\u001b[39m) \u001b[39mand\u001b[39;00m \u001b[39mlen\u001b[39m(connected) \u001b[39m==\u001b[39m \u001b[39m2\u001b[39m) \u001b[39mor\u001b[39;00m (_traversed_edges\u001b[39m.\u001b[39;49mcount({_current_path[\u001b[39m-\u001b[39;49m\u001b[39m1\u001b[39;49m], v_next}) \u001b[39m==\u001b[39m \u001b[39m2\u001b[39m):\n\u001b[1;32m     <a href='file:///~/bwinf-40-2/a1-M%C3%BCllabfuhr/cycling/citygraph.py?line=43'>44</a>\u001b[0m     \u001b[39mcontinue\u001b[39;00m\n\u001b[1;32m     <a href='file:///~/bwinf-40-2/a1-M%C3%BCllabfuhr/cycling/citygraph.py?line=44'>45</a>\u001b[0m \u001b[39mif\u001b[39;00m v_next \u001b[39m==\u001b[39m \u001b[39m0\u001b[39m:\n",
      "\u001b[0;31mKeyboardInterrupt\u001b[0m: "
     ]
    }
   ],
   "source": [
    "from citygraph import CityGraph\n",
    "import math\n",
    "from typing import List, Generator\n",
    "\n",
    "cg = CityGraph._from_bwinf_file('../beispieldaten/muellabfuhr2.txt')\n",
    "\n",
    "cycles = list(map(lambda x: x[0], sorted(cg.find_cycles(), key=lambda x: x[1])))\n",
    "\n",
    "def check_cycles(cycles: List):\n",
    "    edges = []\n",
    "    for cycle in cycles:\n",
    "        for i in range(len(cycle)-2):\n",
    "            edges.append({cycle[i], cycle[i+1]})\n",
    "    \n",
    "    for edge in cg.edgeset:\n",
    "        if edge not in edges:\n",
    "            return False\n",
    "    return True\n",
    "\n",
    "max_ = len(cycles)\n",
    "print(f'found {max_} cycles')\n",
    "# counter_gen = ([math.floor(i/max_**z)%max_ for z in range(5)] for i in range(max_**5))\n",
    "\n",
    "def is_duplicate(arr: List):\n",
    "    prev = None\n",
    "    for x in sorted(arr):\n",
    "        if prev == x: return True\n",
    "        prev = x\n",
    "\n",
    "def combinations() -> Generator[List[int], None, None]:\n",
    "    for major in range(max_):\n",
    "        for i in range((major+1)**4):\n",
    "            next_ = [major] + [major - math.floor((i / ((major + 1) ** z)) % (major + 1)) for z in range(3, -1, -1)]\n",
    "            if is_duplicate(next_): continue\n",
    "            yield next_\n",
    "\n",
    "for c in combinations():\n",
    "    if check_cycles([cycles[y] for y in c]):\n",
    "        print(c)\n",
    "        print([cycles[y] for y in c])\n",
    "        break\n"
   ]
  }
 ],
 "metadata": {
  "interpreter": {
   "hash": "dcfe86b0f2f8ee846c7a021d54d576623fe394ac54edb12384e41645d01da8bc"
  },
  "kernelspec": {
   "display_name": "Python 3.10.1 64-bit",
   "language": "python",
   "name": "python3"
  },
  "language_info": {
   "codemirror_mode": {
    "name": "ipython",
    "version": 3
   },
   "file_extension": ".py",
   "mimetype": "text/x-python",
   "name": "python",
   "nbconvert_exporter": "python",
   "pygments_lexer": "ipython3",
   "version": "3.9.2"
  },
  "orig_nbformat": 4
 },
 "nbformat": 4,
 "nbformat_minor": 2
}
