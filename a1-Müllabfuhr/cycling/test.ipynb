{
 "cells": [
  {
   "cell_type": "code",
   "execution_count": 1,
   "metadata": {},
   "outputs": [],
   "source": [
    "from citygraph import CityGraph\n",
    "\n",
    "cg = CityGraph._from_bwinf_file('../beispieldaten/muellabfuhr0.txt')\n",
    "\n",
    "cycles = list(map(lambda x: x[0], sorted(cg.find_cycles(), key=lambda x: x[1])))\n",
    "\n",
    "def check_cycles(cycles):\n",
    "    edges = []\n",
    "    for cycle in cycles:\n",
    "        for i in range(len(cycle)-2):\n",
    "            edges.append({cycle[i], cycle[i+1]})\n",
    "    \n",
    "    for edge in cg.edgeset:\n",
    "        if edge not in edges:\n",
    "            return False\n",
    "    return True\n",
    "\n",
    "# counting thing TODO better way to find shortest path\n",
    "nums = [0] * 5\n",
    "\n",
    "for _ in range(len(cycles)**5):\n",
    "    nums[4] += 1\n",
    "    if nums[4] >= len(cycles):\n",
    "        nums[4] = 0\n",
    "        nums[3] += 1\n",
    "    if nums[3] >= len(cycles):\n",
    "        nums[3] = 0\n",
    "        nums[2] += 1\n",
    "    if nums[2] >= len(cycles):\n",
    "        nums[2] = 0\n",
    "        nums[1] += 1\n",
    "    if nums[1] >= len(cycles):\n",
    "        nums[1] = 0\n",
    "        nums[0] += 1\n",
    "    if nums[0] >= len(cycles):\n",
    "        print('end')\n",
    "\n",
    "    if check_cycles([cycles[nums[i]] for i in range(5)]):\n",
    "        print(nums)\n",
    "        print(cycles[nums[0]], cycles[nums[1]], cycles[nums[2]], cycles[nums[3]], cycles[nums[4]])\n",
    "    \n",
    "\n"
   ]
  }
 ],
 "metadata": {
  "interpreter": {
   "hash": "dcfe86b0f2f8ee846c7a021d54d576623fe394ac54edb12384e41645d01da8bc"
  },
  "kernelspec": {
   "display_name": "Python 3.10.1 64-bit",
   "language": "python",
   "name": "python3"
  },
  "language_info": {
   "codemirror_mode": {
    "name": "ipython",
    "version": 3
   },
   "file_extension": ".py",
   "mimetype": "text/x-python",
   "name": "python",
   "nbconvert_exporter": "python",
   "pygments_lexer": "ipython3",
   "version": "3.10.1"
  },
  "orig_nbformat": 4
 },
 "nbformat": 4,
 "nbformat_minor": 2
}
