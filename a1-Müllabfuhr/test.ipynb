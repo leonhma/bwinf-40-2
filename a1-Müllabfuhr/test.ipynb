{
 "cells": [
  {
   "cell_type": "code",
   "execution_count": 1,
   "metadata": {},
   "outputs": [],
   "source": [
    "from citygraph import CityGraph"
   ]
  },
  {
   "cell_type": "code",
   "execution_count": 2,
   "metadata": {},
   "outputs": [
    {
     "name": "stdout",
     "output_type": "stream",
     "text": [
      "getting cycles\n",
      "paths=[(9.0, (0, 6, 7, 5, 3, 6, 0)), (11.0, (0, 6, 3, 5, 0)), (18.0, (0, 6, 3, 2, 3, 6, 0)), (15.0, (0, 4, 3, 6, 0)), (18.0, (0, 6, 3, 4, 5, 7, 6, 0)), (19.0, (0, 6, 7, 5, 4, 7, 6, 0)), (13.0, (0, 6, 1, 3, 6, 0))]\n",
      "[(28.0, (0, 6, 1, 3, 6, 0, 0, 4, 3, 6, 0)), (18.0, (0, 6, 3, 2, 3, 6, 0)), (18.0, (0, 6, 3, 4, 5, 7, 6, 0)), (19.0, (0, 6, 7, 5, 4, 7, 6, 0)), (20.0, (0, 6, 7, 5, 3, 6, 0, 0, 6, 3, 5, 0))]\n"
     ]
    }
   ],
   "source": [
    "cg = CityGraph._from_bwinf_file('beispieldaten/muellabfuhr1.txt')\n",
    "print(cg.get_paths(5))"
   ]
  }
 ],
 "metadata": {
  "interpreter": {
   "hash": "916dbcbb3f70747c44a77c7bcd40155683ae19c65e1c03b4aa3499c5328201f1"
  },
  "kernelspec": {
   "display_name": "Python 3.9.2 64-bit",
   "language": "python",
   "name": "python3"
  },
  "language_info": {
   "codemirror_mode": {
    "name": "ipython",
    "version": 3
   },
   "file_extension": ".py",
   "mimetype": "text/x-python",
   "name": "python",
   "nbconvert_exporter": "python",
   "pygments_lexer": "ipython3",
   "version": "3.9.2"
  },
  "orig_nbformat": 4
 },
 "nbformat": 4,
 "nbformat_minor": 2
}
