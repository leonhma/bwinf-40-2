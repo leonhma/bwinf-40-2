{
 "cells": [
  {
   "cell_type": "code",
   "execution_count": 4,
   "metadata": {},
   "outputs": [],
   "source": [
    "from citygraph import CityGraph"
   ]
  },
  {
   "cell_type": "code",
   "execution_count": 5,
   "metadata": {},
   "outputs": [],
   "source": [
    "cg = CityGraph._from_bwinf_file('../beispieldaten/muellabfuhr0.txt')"
   ]
  },
  {
   "cell_type": "code",
   "execution_count": 6,
   "metadata": {},
   "outputs": [
    {
     "name": "stdout",
     "output_type": "stream",
     "text": [
      "1647717858.4484475 starting checking for combinations\n",
      "1647717858.448693 done checking for combinations\n",
      "1647717858.4488962 starting checking for combinations\n",
      "1647717858.4490082 done checking for combinations\n",
      "1647717858.4491684 starting checking for combinations\n",
      "1647717858.4494152 done checking for combinations\n",
      "1647717858.4498434 starting checking for combinations\n",
      "1647717858.4519615 done checking for combinations\n",
      "1647717858.452627 starting checking for combinations\n",
      "1647717858.4568367 done checking for combinations\n",
      "1647717858.4576643 starting checking for combinations\n",
      "Tag 1: 0 -> 2 -> 3 -> 4 -> 0, Gesamtlaenge: 4.0\n",
      "Tag 2: 0 -> 4 -> 5 -> 6 -> 0, Gesamtlaenge: 4.0\n",
      "Tag 3: 0 -> 2 -> 1 -> 8 -> 0, Gesamtlaenge: 4.0\n",
      "Tag 4: 0 -> 6 -> 7 -> 8 -> 0, Gesamtlaenge: 4.0\n",
      "Tag 5: 0 -> 8 -> 9 -> 8 -> 0, Gesamtlaenge: 4.0\n",
      "Maximale Lange einer Tagestour: 4.0\n"
     ]
    }
   ],
   "source": [
    "paths = cg.get_bfs_trash_collection_paths()\n",
    "maxlength = 0\n",
    "for i, (path, length) in enumerate(paths):\n",
    "    print(f'Tag {i+1}: {\" -> \".join(map(str, path))}, Gesamtlaenge: {length}')\n",
    "    if length > maxlength:\n",
    "        maxlength = length\n",
    "print(f'Maximale Lange einer Tagestour: {maxlength}')\n"
   ]
  }
 ],
 "metadata": {
  "interpreter": {
   "hash": "916dbcbb3f70747c44a77c7bcd40155683ae19c65e1c03b4aa3499c5328201f1"
  },
  "kernelspec": {
   "display_name": "Python 3.9.2 64-bit",
   "language": "python",
   "name": "python3"
  },
  "language_info": {
   "codemirror_mode": {
    "name": "ipython",
    "version": 3
   },
   "file_extension": ".py",
   "mimetype": "text/x-python",
   "name": "python",
   "nbconvert_exporter": "python",
   "pygments_lexer": "ipython3",
   "version": "3.9.2"
  },
  "orig_nbformat": 4
 },
 "nbformat": 4,
 "nbformat_minor": 2
}
