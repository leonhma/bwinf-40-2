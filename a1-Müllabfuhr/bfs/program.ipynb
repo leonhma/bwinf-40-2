{
 "cells": [
  {
   "cell_type": "code",
   "execution_count": 1,
   "metadata": {},
   "outputs": [],
   "source": [
    "from citygraph import CityGraph"
   ]
  },
  {
   "cell_type": "code",
   "execution_count": 2,
   "metadata": {},
   "outputs": [],
   "source": [
    "cg = CityGraph._from_bwinf_file('../beispieldaten/muellabfuhr1.txt')  # O(m)"
   ]
  },
  {
   "cell_type": "code",
   "execution_count": 3,
   "metadata": {},
   "outputs": [
    {
     "name": "stdout",
     "output_type": "stream",
     "text": [
      "Tag 1: 0 -> 5 -> 3 -> 6 -> 1 -> 3 -> 6 -> 0, Gesamtlaenge: 22.0\n",
      "Tag 2: 0 -> 4 -> 3 -> 6 -> 7 -> 5 -> 0, Gesamtlaenge: 23.0\n",
      "Tag 3: 0 -> 4 -> 5 -> 3 -> 6 -> 7 -> 5 -> 3 -> 6 -> 0, Gesamtlaenge: 23.0\n",
      "Tag 4: 0 -> 4 -> 7 -> 6 -> 3 -> 5 -> 7 -> 6 -> 0, Gesamtlaenge: 23.0\n",
      "Tag 5: 0 -> 6 -> 3 -> 2 -> 3 -> 5 -> 7 -> 6 -> 0, Gesamtlaenge: 23.0\n",
      "Maximale Lange einer Tagestour: 23.0\n"
     ]
    }
   ],
   "source": [
    "paths = cg.get_trash_collection_paths()\n",
    "maxdistance = max(x[0] for x in paths)\n",
    "maxlength = max(len(x[1]) for x in paths)\n",
    "for i, (length, path) in enumerate(paths):\n",
    "    print(f'Tag {i+1}: {\" -> \".join(map(str, path))}, Gesamtlaenge: {length}')\n",
    "print(f'Maximale Lange einer Tagestour: {maxdistance}')\n"
   ]
  }
 ],
 "metadata": {
  "interpreter": {
   "hash": "916dbcbb3f70747c44a77c7bcd40155683ae19c65e1c03b4aa3499c5328201f1"
  },
  "kernelspec": {
   "display_name": "Python 3.9.2 64-bit",
   "language": "python",
   "name": "python3"
  },
  "language_info": {
   "codemirror_mode": {
    "name": "ipython",
    "version": 3
   },
   "file_extension": ".py",
   "mimetype": "text/x-python",
   "name": "python",
   "nbconvert_exporter": "python",
   "pygments_lexer": "ipython3",
   "version": "3.9.2"
  },
  "orig_nbformat": 4
 },
 "nbformat": 4,
 "nbformat_minor": 2
}
